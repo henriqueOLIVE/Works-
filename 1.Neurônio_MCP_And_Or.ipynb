{
  "nbformat": 4,
  "nbformat_minor": 0,
  "metadata": {
    "colab": {
      "provenance": [],
      "collapsed_sections": []
    },
    "kernelspec": {
      "display_name": "Python 3",
      "name": "python3"
    },
    "language_info": {
      "name": "python"
    }
  },
  "cells": [
    {
      "cell_type": "code",
      "metadata": {
        "id": "RERxhj49mWAw"
      },
      "source": [
        "class MP_Neuron:\n",
        "\n",
        "    # threshold de disparo\n",
        "    threshold = 0\n",
        "\n",
        "    # Pesos do Neurônio\n",
        "    w1 = 0\n",
        "    w2 = 0\n",
        "\n",
        "    possible_w1_vals = [-1, 1]\n",
        "    possible_w2_vals = [-1, 1]\n",
        "    possible_thresh_vals = [-2, -1, 0, 1, 2]\n",
        "\n",
        "    def __init__(self, input_matrix):\n",
        "\n",
        "        '''\n",
        "        Exemplo de Matriz de Entrada para operador AND\n",
        "        |   x1  |   x2  |   y   |\n",
        "        |   -1  |   -1  |   0   |\n",
        "        |   -1  |   +1  |   0   |\n",
        "        |   +1  |   -1  |   0   |\n",
        "        |   +1  |   +1  |   1   |\n",
        "        '''   \n",
        "\n",
        "        self.input_matrix = input_matrix\n",
        "\n",
        "    \n",
        "    def iterate_all_values(self):\n",
        "\n",
        "        for w1 in self.possible_w1_vals:\n",
        "            self.w1 = w1\n",
        "\n",
        "            for w2 in self.possible_w2_vals:\n",
        "                self.w2 = w2\n",
        "\n",
        "                for threshold in self.possible_thresh_vals:\n",
        "                    self.threshold = threshold\n",
        "\n",
        "                    if self.check_combination():\n",
        "                        return True\n",
        "        \n",
        "        return False\n",
        "\n",
        "\n",
        "    def check_combination(self):\n",
        "\n",
        "        valid = True\n",
        "        for (x1, x2, y) in self.input_matrix:\n",
        "            \n",
        "            if not self.compare_target(x1, x2, y):\n",
        "                valid = False\n",
        "        \n",
        "        return valid\n",
        "\n",
        "\n",
        "    def compare_target(self, x1, x2, target):\n",
        "        \n",
        "        if self.neuron_activate(x1, x2) == target:\n",
        "            return True\n",
        "        else:\n",
        "            return False\n",
        "    \n",
        "    \n",
        "    def neuron_activate(self, x1, x2):\n",
        "        output = self.w1*x1 + self.w2*x2\n",
        "\n",
        "        if output >= self.threshold:\n",
        "            return 1\n",
        "        else:\n",
        "            return 0"
      ],
      "execution_count": null,
      "outputs": []
    },
    {
      "cell_type": "code",
      "metadata": {
        "id": "avyKLkl0mnuV"
      },
      "source": [
        "AND_Matrix = [\n",
        "        [-1, -1, 0],\n",
        "        [-1,  1, 0],\n",
        "        [ 1, -1, 0],\n",
        "        [ 1,  1, 1],\n",
        "    ]\n",
        "\n",
        "OR_Matrix = [\n",
        "        [-1, -1, 0],\n",
        "        [-1,  1, 1],\n",
        "        [ 1, -1, 1],\n",
        "        [ 1,  1, 1],\n",
        "    ]\n",
        "\n",
        "NAND_Matrix = [\n",
        "        [-1, -1, 1],\n",
        "        [-1,  1, 1],\n",
        "        [ 1, -1, 1],\n",
        "        [ 1,  1, 0],\n",
        "    ]\n",
        "\n",
        "XOR_Matrix = [\n",
        "        [-1, -1, 0],\n",
        "        [-1,  1, 1],\n",
        "        [ 1, -1, 1],\n",
        "        [ 1,  1, 0],\n",
        "    ]"
      ],
      "execution_count": null,
      "outputs": []
    },
    {
      "cell_type": "code",
      "metadata": {
        "id": "P-4Ls2OMmtHL"
      },
      "source": [
        "def neuron_calculate(mp):\n",
        "      if mp.iterate_all_values():\n",
        "          print(\"Pesos: {}, {}\".format(mp.w1, mp.w2))\n",
        "          print(\"Threshold  {}\".format(mp.threshold))\n",
        "      else:\n",
        "          print(\"Não Linearmente Separável.\")\n",
        "      print()"
      ],
      "execution_count": null,
      "outputs": []
    },
    {
      "cell_type": "code",
      "metadata": {
        "id": "JqpG0C6hmuC0",
        "colab": {
          "base_uri": "https://localhost:8080/"
        },
        "outputId": "0aa631de-b1b3-4750-9dcc-ba7681f62389"
      },
      "source": [
        "print(\"++ AND Gate ++\")\n",
        "mp_AND = MP_Neuron(AND_Matrix)\n",
        "neuron_calculate(mp_AND)"
      ],
      "execution_count": null,
      "outputs": [
        {
          "output_type": "stream",
          "name": "stdout",
          "text": [
            "++ AND Gate ++\n",
            "Pesos: 1, 1\n",
            "Threshold  1\n",
            "\n"
          ]
        }
      ]
    },
    {
      "cell_type": "code",
      "metadata": {
        "id": "FSM9nlvRnDDE",
        "colab": {
          "base_uri": "https://localhost:8080/"
        },
        "outputId": "d2cb172c-5bc1-4fb6-c3a3-c643e60a9302"
      },
      "source": [
        "print(\"++ OR Gate ++\")\n",
        "mp_OR = MP_Neuron(OR_Matrix)\n",
        "neuron_calculate(mp_OR)"
      ],
      "execution_count": null,
      "outputs": [
        {
          "output_type": "stream",
          "name": "stdout",
          "text": [
            "++ OR Gate ++\n",
            "Pesos: 1, 1\n",
            "Threshold  -1\n",
            "\n"
          ]
        }
      ]
    },
    {
      "cell_type": "code",
      "metadata": {
        "id": "_Gxpr44WnEp2",
        "colab": {
          "base_uri": "https://localhost:8080/"
        },
        "outputId": "64efc16c-30e9-473b-8bd1-537c10d340f6"
      },
      "source": [
        "print(\"++ NAND Gate ++\")\n",
        "mp_NAND = MP_Neuron(NAND_Matrix)\n",
        "neuron_calculate(mp_NAND)"
      ],
      "execution_count": null,
      "outputs": [
        {
          "output_type": "stream",
          "name": "stdout",
          "text": [
            "++ NAND Gate ++\n",
            "Pesos: -1, -1\n",
            "Threshold  -1\n",
            "\n"
          ]
        }
      ]
    },
    {
      "cell_type": "code",
      "metadata": {
        "id": "sIHVScRBnFrG",
        "colab": {
          "base_uri": "https://localhost:8080/"
        },
        "outputId": "287b6929-b8d6-4669-d63b-a117f9ff1703"
      },
      "source": [
        "print(\"++ XOR Gate ++\")\n",
        "mp_XOR = MP_Neuron(XOR_Matrix)\n",
        "neuron_calculate(mp_XOR)"
      ],
      "execution_count": null,
      "outputs": [
        {
          "output_type": "stream",
          "name": "stdout",
          "text": [
            "++ XOR Gate ++\n",
            "Não Linearmente Separável.\n",
            "\n"
          ]
        }
      ]
    }
  ]
}