{
  "nbformat": 4,
  "nbformat_minor": 0,
  "metadata": {
    "colab": {
      "provenance": []
    },
    "kernelspec": {
      "name": "python3",
      "display_name": "Python 3"
    },
    "language_info": {
      "name": "python"
    },
    "accelerator": "GPU"
  },
  "cells": [
    {
      "cell_type": "markdown",
      "source": [
        "##Classificação de Imagens Reais"
      ],
      "metadata": {
        "id": "AvMeZ9GnrDNW"
      }
    },
    {
      "cell_type": "markdown",
      "source": [
        "Baixe o seguinte arquivo: https://www.dropbox.com/s/sofyakylqodcrd3/Digitos.zip?dl=0"
      ],
      "metadata": {
        "id": "FF1phSI0q2iv"
      }
    },
    {
      "cell_type": "markdown",
      "source": [
        "Faça o upload desse aquivo para a pasta principal de arquivos do Google Colab"
      ],
      "metadata": {
        "id": "aGX8W352rI8x"
      }
    },
    {
      "cell_type": "code",
      "metadata": {
        "id": "Z-dlXc3p_aEL"
      },
      "source": [
        "import matplotlib.pyplot as plt\n",
        "from keras.models import Sequential\n",
        "from keras.layers import Dense\n",
        "from keras.layers import Dropout\n",
        "from keras.layers import Flatten\n",
        "from keras.layers.convolutional import Conv2D\n",
        "from keras.layers.convolutional import MaxPooling2D,AveragePooling2D\n",
        "from keras.preprocessing.image import img_to_array, load_img\n",
        "import numpy as np\n",
        "from keras import preprocessing\n",
        "\n",
        "from keras.callbacks import ModelCheckpoint\n"
      ],
      "execution_count": null,
      "outputs": []
    },
    {
      "cell_type": "code",
      "source": [
        "import zipfile"
      ],
      "metadata": {
        "id": "hTccMVr9gJ_z"
      },
      "execution_count": null,
      "outputs": []
    },
    {
      "cell_type": "code",
      "source": [
        "with zipfile.ZipFile('/content/Digitos.zip', 'r') as zip_ref:\n",
        "    zip_ref.extractall('/content/Datasets')"
      ],
      "metadata": {
        "id": "kAsEKWj9gNWQ"
      },
      "execution_count": null,
      "outputs": []
    },
    {
      "cell_type": "code",
      "metadata": {
        "id": "FLyqlsKVDhUl",
        "colab": {
          "base_uri": "https://localhost:8080/"
        },
        "outputId": "4035c718-58f6-412e-e54b-66cb803bd862"
      },
      "source": [
        "train_datagen = preprocessing.image.ImageDataGenerator(validation_split=0.20)\n",
        "train_generator = train_datagen.flow_from_directory(\n",
        "    '/content/Datasets/Digitos/Treinamento',\n",
        "    batch_size=200,\n",
        "    color_mode = 'grayscale',\n",
        "    subset='training',\n",
        "    target_size=(30, 30))\n"
      ],
      "execution_count": null,
      "outputs": [
        {
          "output_type": "stream",
          "name": "stdout",
          "text": [
            "Found 5473 images belonging to 10 classes.\n"
          ]
        }
      ]
    },
    {
      "cell_type": "code",
      "metadata": {
        "id": "_BaY8FN6fR6x",
        "colab": {
          "base_uri": "https://localhost:8080/"
        },
        "outputId": "3ef94d50-de40-4c4d-81fb-65a9f17e1796"
      },
      "source": [
        "valid_generator = train_datagen.flow_from_directory(\n",
        "    '/content/Datasets/Digitos/Treinamento',\n",
        "    batch_size=200,\n",
        "    color_mode = 'grayscale',\n",
        "    subset='validation',\n",
        "    target_size=(30, 30))"
      ],
      "execution_count": null,
      "outputs": [
        {
          "output_type": "stream",
          "name": "stdout",
          "text": [
            "Found 1363 images belonging to 10 classes.\n"
          ]
        }
      ]
    },
    {
      "cell_type": "code",
      "metadata": {
        "id": "j_lsEBqlfu4a",
        "colab": {
          "base_uri": "https://localhost:8080/",
          "height": 266
        },
        "outputId": "edf2bb10-e6b9-434f-d775-2973b132169f"
      },
      "source": [
        "#Visualizando \n",
        "x,y = train_generator.next()\n",
        "for i in range(0,1):\n",
        "    image = x[i]   \n",
        "    plt.imshow(image[:,:,0], cmap=plt.get_cmap('gray'))\n",
        "    plt.show()"
      ],
      "execution_count": null,
      "outputs": [
        {
          "output_type": "display_data",
          "data": {
            "text/plain": [
              "<Figure size 432x288 with 1 Axes>"
            ],
            "image/png": "[encoded data removed]"
          },
          "metadata": {
            "needs_background": "light"
          }
        }
      ]
    },
    {
      "cell_type": "code",
      "source": [
        "x.shape"
      ],
      "metadata": {
        "id": "Nx9NfTsMngki",
        "colab": {
          "base_uri": "https://localhost:8080/"
        },
        "outputId": "71de1ebb-5b3e-4ffb-ff29-e94f17b04b9b"
      },
      "execution_count": null,
      "outputs": [
        {
          "output_type": "execute_result",
          "data": {
            "text/plain": [
              "(200, 30, 30, 1)"
            ]
          },
          "metadata": {},
          "execution_count": 7
        }
      ]
    },
    {
      "cell_type": "code",
      "source": [
        "image.shape"
      ],
      "metadata": {
        "id": "K8Kcd-yAnlfJ",
        "colab": {
          "base_uri": "https://localhost:8080/"
        },
        "outputId": "c83693fe-1672-49ea-aebb-da5534c678e3"
      },
      "execution_count": null,
      "outputs": [
        {
          "output_type": "execute_result",
          "data": {
            "text/plain": [
              "(30, 30, 1)"
            ]
          },
          "metadata": {},
          "execution_count": 8
        }
      ]
    },
    {
      "cell_type": "code",
      "source": [
        "y[0]"
      ],
      "metadata": {
        "id": "rdrlDd0WeLZD",
        "colab": {
          "base_uri": "https://localhost:8080/"
        },
        "outputId": "e3e73ec0-1a25-4fc6-9187-53831dd756af"
      },
      "execution_count": null,
      "outputs": [
        {
          "output_type": "execute_result",
          "data": {
            "text/plain": [
              "array([0., 0., 0., 0., 1., 0., 0., 0., 0., 0.], dtype=float32)"
            ]
          },
          "metadata": {},
          "execution_count": 9
        }
      ]
    },
    {
      "cell_type": "code",
      "metadata": {
        "id": "NbOaV-gQgXpH"
      },
      "source": [
        "num_classes = 10\n",
        "\n",
        "STEP_SIZE_TRAIN=train_generator.n//train_generator.batch_size\n",
        "STEP_SIZE_VALID=valid_generator.n//valid_generator.batch_size\n"
      ],
      "execution_count": null,
      "outputs": []
    },
    {
      "cell_type": "code",
      "metadata": {
        "id": "kxlPBEOxgZMM",
        "colab": {
          "base_uri": "https://localhost:8080/"
        },
        "outputId": "a7bda47d-f872-4125-d06e-56942e53e7cb"
      },
      "source": [
        "# Cria o modelo\n",
        "model = Sequential()\n",
        "#Convolução 2D com função de ativação Rectified Linear Units 32 kernels/Pesos (filtros) \n",
        "model.add(Conv2D(32, (7, 7), input_shape=(30,30,1), activation='relu')) #, data_format='channels_first'\n",
        "print( model.output_shape)\n",
        "#Camada de Pooling \t    \n",
        "model.add(AveragePooling2D(pool_size=(2, 2)))\n",
        "print( model.output_shape)\n",
        "\t\n",
        "#Convolução 2D com função de ativação Rectified Linear Units 64 kernels/Pesos (filtros) \n",
        "model.add(Conv2D(64, (5, 5), activation='relu'))\n",
        "print( model.output_shape)\n",
        "#Camada de Pooling \t\n",
        "model.add(AveragePooling2D(pool_size=(2, 2)))\n",
        "print( model.output_shape)\n",
        "\n",
        "#Convolução 2D com função de ativação Rectified Linear Units 128 kernels/Pesos (filtros) \n",
        "model.add(Conv2D(128, (3, 3), activation='relu'))\n",
        "print( model.output_shape)\n",
        "#Camada de Pooling \t\n",
        "model.add(AveragePooling2D(pool_size=(2, 2)))\n",
        "print( model.output_shape)\n",
        "\n",
        "#Remove 30% dos dados de entrada aleatoriamente \n",
        "model.add(Dropout(0.3))\n",
        "#Converte o conjunto de imagens e um vetor unidimensional para a entrada da rede neural totalmente conectada\n",
        "model.add(Flatten())\n",
        "print( model.output_shape)\n",
        "\n",
        "model.add(Dense(512, activation='relu'))\n",
        "print( model.output_shape)\n",
        "model.add(Dense(128, activation='relu'))\n",
        "print( model.output_shape)\n",
        "model.add(Dense(64, activation='relu'))\n",
        "print( model.output_shape)\n",
        "model.add(Dense(num_classes, activation='softmax'))\n",
        "print( model.output_shape)\n"
      ],
      "execution_count": null,
      "outputs": [
        {
          "output_type": "stream",
          "name": "stdout",
          "text": [
            "(None, 24, 24, 32)\n",
            "(None, 12, 12, 32)\n",
            "(None, 8, 8, 64)\n",
            "(None, 4, 4, 64)\n",
            "(None, 2, 2, 128)\n",
            "(None, 1, 1, 128)\n",
            "(None, 128)\n",
            "(None, 512)\n",
            "(None, 128)\n",
            "(None, 64)\n",
            "(None, 10)\n"
          ]
        }
      ]
    },
    {
      "cell_type": "code",
      "metadata": {
        "id": "9Zo-NEaegdNh"
      },
      "source": [
        "model.compile(loss='categorical_crossentropy', optimizer='adam', metrics=['accuracy'])"
      ],
      "execution_count": null,
      "outputs": []
    },
    {
      "cell_type": "code",
      "metadata": {
        "id": "az7y6EhkgiOe",
        "colab": {
          "base_uri": "https://localhost:8080/"
        },
        "outputId": "8d9de10e-45ec-4cc0-f3a1-37ed3c76a93c"
      },
      "source": [
        "mcp_save = ModelCheckpoint('model_best.h5', monitor='val_accuracy', mode= 'auto', save_weights_only=True, save_best_only=True, verbose =1)\n",
        "#reduce_lr_loss = ReduceLROnPlateau(monitor='val_loss', factor=0.1, patience=7, verbose=1, epsilon=1e-4, mode='min')\n",
        "\n",
        "model.summary()\n",
        "\n",
        "model.fit_generator(train_generator, \n",
        "                    steps_per_epoch=STEP_SIZE_TRAIN,\n",
        "                    validation_data=valid_generator,\n",
        "                    validation_steps=STEP_SIZE_VALID,\n",
        "                    epochs=10, callbacks=[mcp_save])"
      ],
      "execution_count": null,
      "outputs": [
        {
          "output_type": "stream",
          "name": "stdout",
          "text": [
            "Model: \"sequential\"\n",
            "_________________________________________________________________\n",
            " Layer (type)                Output Shape              Param #   \n",
            "=================================================================\n",
            " conv2d (Conv2D)             (None, 24, 24, 32)        1600      \n",
            "                                                                 \n",
            " average_pooling2d (AverageP  (None, 12, 12, 32)       0         \n",
            " ooling2D)                                                       \n",
            "                                                                 \n",
            " conv2d_1 (Conv2D)           (None, 8, 8, 64)          51264     \n",
            "                                                                 \n",
            " average_pooling2d_1 (Averag  (None, 4, 4, 64)         0         \n",
            " ePooling2D)                                                     \n",
            "                                                                 \n",
            " conv2d_2 (Conv2D)           (None, 2, 2, 128)         73856     \n",
            "                                                                 \n",
            " average_pooling2d_2 (Averag  (None, 1, 1, 128)        0         \n",
            " ePooling2D)                                                     \n",
            "                                                                 \n",
            " dropout (Dropout)           (None, 1, 1, 128)         0         \n",
            "                                                                 \n",
            " flatten (Flatten)           (None, 128)               0         \n",
            "                                                                 \n",
            " dense (Dense)               (None, 512)               66048     \n",
            "                                                                 \n",
            " dense_1 (Dense)             (None, 128)               65664     \n",
            "                                                                 \n",
            " dense_2 (Dense)             (None, 64)                8256      \n",
            "                                                                 \n",
            " dense_3 (Dense)             (None, 10)                650       \n",
            "                                                                 \n",
            "=================================================================\n",
            "Total params: 267,338\n",
            "Trainable params: 267,338\n",
            "Non-trainable params: 0\n",
            "_________________________________________________________________\n"
          ]
        },
        {
          "output_type": "stream",
          "name": "stderr",
          "text": [
            "/usr/local/lib/python3.7/dist-packages/ipykernel_launcher.py:10: UserWarning: `Model.fit_generator` is deprecated and will be removed in a future version. Please use `Model.fit`, which supports generators.\n",
            "  # Remove the CWD from sys.path while we load stuff.\n"
          ]
        },
        {
          "output_type": "stream",
          "name": "stdout",
          "text": [
            "Epoch 1/10\n",
            "26/27 [===========================>..] - ETA: 0s - loss: 1.4171 - accuracy: 0.5778\n",
            "Epoch 1: val_accuracy improved from -inf to 0.96917, saving model to model_best.h5\n",
            "27/27 [==============================] - 13s 56ms/step - loss: 1.3765 - accuracy: 0.5894 - val_loss: 0.1402 - val_accuracy: 0.9692\n",
            "Epoch 2/10\n",
            "26/27 [===========================>..] - ETA: 0s - loss: 0.2043 - accuracy: 0.9296\n",
            "Epoch 2: val_accuracy improved from 0.96917 to 0.98333, saving model to model_best.h5\n",
            "27/27 [==============================] - 1s 43ms/step - loss: 0.2012 - accuracy: 0.9312 - val_loss: 0.0578 - val_accuracy: 0.9833\n",
            "Epoch 3/10\n",
            "25/27 [==========================>...] - ETA: 0s - loss: 0.0956 - accuracy: 0.9740\n",
            "Epoch 3: val_accuracy improved from 0.98333 to 0.99500, saving model to model_best.h5\n",
            "27/27 [==============================] - 1s 43ms/step - loss: 0.0969 - accuracy: 0.9734 - val_loss: 0.0163 - val_accuracy: 0.9950\n",
            "Epoch 4/10\n",
            "26/27 [===========================>..] - ETA: 0s - loss: 0.0597 - accuracy: 0.9817\n",
            "Epoch 4: val_accuracy did not improve from 0.99500\n",
            "27/27 [==============================] - 1s 46ms/step - loss: 0.0594 - accuracy: 0.9818 - val_loss: 0.0250 - val_accuracy: 0.9917\n",
            "Epoch 5/10\n",
            "26/27 [===========================>..] - ETA: 0s - loss: 0.0384 - accuracy: 0.9888\n",
            "Epoch 5: val_accuracy did not improve from 0.99500\n",
            "27/27 [==============================] - 1s 42ms/step - loss: 0.0378 - accuracy: 0.9888 - val_loss: 0.0199 - val_accuracy: 0.9942\n",
            "Epoch 6/10\n",
            "26/27 [===========================>..] - ETA: 0s - loss: 0.0364 - accuracy: 0.9890\n",
            "Epoch 6: val_accuracy improved from 0.99500 to 0.99667, saving model to model_best.h5\n",
            "27/27 [==============================] - 1s 42ms/step - loss: 0.0356 - accuracy: 0.9892 - val_loss: 0.0163 - val_accuracy: 0.9967\n",
            "Epoch 7/10\n",
            "26/27 [===========================>..] - ETA: 0s - loss: 0.0281 - accuracy: 0.9907\n",
            "Epoch 7: val_accuracy did not improve from 0.99667\n",
            "27/27 [==============================] - 1s 42ms/step - loss: 0.0275 - accuracy: 0.9911 - val_loss: 0.0164 - val_accuracy: 0.9933\n",
            "Epoch 8/10\n",
            "26/27 [===========================>..] - ETA: 0s - loss: 0.0230 - accuracy: 0.9919\n",
            "Epoch 8: val_accuracy did not improve from 0.99667\n",
            "27/27 [==============================] - 1s 43ms/step - loss: 0.0225 - accuracy: 0.9922 - val_loss: 0.0140 - val_accuracy: 0.9958\n",
            "Epoch 9/10\n",
            "27/27 [==============================] - ETA: 0s - loss: 0.0184 - accuracy: 0.9941\n",
            "Epoch 9: val_accuracy improved from 0.99667 to 0.99833, saving model to model_best.h5\n",
            "27/27 [==============================] - 2s 65ms/step - loss: 0.0184 - accuracy: 0.9941 - val_loss: 0.0103 - val_accuracy: 0.9983\n",
            "Epoch 10/10\n",
            "27/27 [==============================] - ETA: 0s - loss: 0.0168 - accuracy: 0.9943\n",
            "Epoch 10: val_accuracy did not improve from 0.99833\n",
            "27/27 [==============================] - 2s 65ms/step - loss: 0.0168 - accuracy: 0.9943 - val_loss: 0.0238 - val_accuracy: 0.9942\n"
          ]
        },
        {
          "output_type": "execute_result",
          "data": {
            "text/plain": [
              "<keras.callbacks.History at 0x7f812d4eed50>"
            ]
          },
          "metadata": {},
          "execution_count": 13
        }
      ]
    },
    {
      "cell_type": "code",
      "metadata": {
        "id": "k2dFjFKUgpnA",
        "colab": {
          "base_uri": "https://localhost:8080/"
        },
        "outputId": "1a62016d-67f7-4d49-b692-6b5f69d4caf8"
      },
      "source": [
        "test_datagen = preprocessing.image.ImageDataGenerator()\n",
        "test_generator = test_datagen.flow_from_directory(\n",
        "    '/content/Datasets/Digitos/Teste',\n",
        "    batch_size=1,\n",
        "    color_mode = 'grayscale',    \n",
        "    target_size=(30, 30))"
      ],
      "execution_count": null,
      "outputs": [
        {
          "output_type": "stream",
          "name": "stdout",
          "text": [
            "Found 73 images belonging to 10 classes.\n"
          ]
        }
      ]
    },
    {
      "cell_type": "code",
      "metadata": {
        "id": "R-oBAzcAgzwL",
        "colab": {
          "base_uri": "https://localhost:8080/"
        },
        "outputId": "10907103-3c4d-4c76-da6d-8d4326953208"
      },
      "source": [
        "scores = model.evaluate_generator(test_generator)   \n",
        "print(scores)"
      ],
      "execution_count": null,
      "outputs": [
        {
          "output_type": "stream",
          "name": "stderr",
          "text": [
            "/usr/local/lib/python3.7/dist-packages/ipykernel_launcher.py:1: UserWarning: `Model.evaluate_generator` is deprecated and will be removed in a future version. Please use `Model.evaluate`, which supports generators.\n",
            "  \"\"\"Entry point for launching an IPython kernel.\n"
          ]
        },
        {
          "output_type": "stream",
          "name": "stdout",
          "text": [
            "[0.0023480448871850967, 1.0]\n"
          ]
        }
      ]
    },
    {
      "cell_type": "code",
      "metadata": {
        "id": "2uDyTaiCg0-H",
        "colab": {
          "base_uri": "https://localhost:8080/"
        },
        "outputId": "0ffba25a-7e51-48e1-b3c9-8d3dcf6e2b81"
      },
      "source": [
        "predictions = model.predict_generator(test_generator)\n",
        "print(predictions)"
      ],
      "execution_count": null,
      "outputs": [
        {
          "output_type": "stream",
          "name": "stderr",
          "text": [
            "/usr/local/lib/python3.7/dist-packages/ipykernel_launcher.py:1: UserWarning: `Model.predict_generator` is deprecated and will be removed in a future version. Please use `Model.predict`, which supports generators.\n",
            "  \"\"\"Entry point for launching an IPython kernel.\n"
          ]
        },
        {
          "output_type": "stream",
          "name": "stdout",
          "text": [
            "[[1.60736331e-08 7.68552375e-11 9.99785721e-01 9.11243134e-08\n",
            "  9.04615831e-08 8.98848462e-09 7.37693924e-08 1.26310639e-04\n",
            "  8.76439808e-05 4.73610413e-08]\n",
            " [7.28418126e-09 9.62609690e-08 4.04659373e-09 2.73075660e-08\n",
            "  2.29282790e-07 2.43384366e-05 3.74408806e-08 3.79229759e-09\n",
            "  5.43881526e-07 9.99974608e-01]\n",
            " [6.68189259e-14 1.33609135e-09 1.00000000e+00 2.74932637e-12\n",
            "  9.94429105e-12 1.44420240e-12 1.06870973e-15 7.55003526e-09\n",
            "  2.52439805e-11 4.95851190e-13]\n",
            " [9.99999285e-01 1.00510519e-07 6.19991003e-11 1.96446220e-10\n",
            "  2.58865862e-09 4.18319615e-07 1.35791780e-07 6.20778207e-10\n",
            "  1.08050169e-09 1.99002902e-12]\n",
            " [2.37401923e-06 9.99982476e-01 1.03374714e-06 7.06223045e-06\n",
            "  7.72011902e-07 1.60654011e-07 2.44531770e-06 3.71250189e-06\n",
            "  2.33981778e-10 2.98328970e-08]\n",
            " [3.51866963e-03 1.20956738e-08 1.68592851e-05 2.08711270e-08\n",
            "  1.51889344e-06 2.51905061e-03 3.26770314e-05 1.88849700e-08\n",
            "  9.93836582e-01 7.44814970e-05]\n",
            " [6.90029934e-04 9.33460484e-04 7.07097497e-05 2.41348448e-06\n",
            "  9.88735855e-01 5.53347149e-07 9.42260586e-03 1.00979756e-04\n",
            "  1.47122728e-05 2.86044087e-05]\n",
            " [5.88714420e-06 6.18462508e-08 2.19348379e-08 1.79841067e-03\n",
            "  2.54304333e-09 9.98185217e-01 4.34253570e-06 7.72129471e-09\n",
            "  3.87332693e-06 2.12075906e-06]\n",
            " [9.99999523e-01 8.67060868e-10 9.38223804e-12 3.65188999e-13\n",
            "  9.39062605e-10 2.11129759e-07 7.37226635e-09 3.88204122e-11\n",
            "  1.98498341e-07 1.76880821e-08]\n",
            " [6.41536957e-08 1.30672424e-08 5.48050702e-11 3.64385887e-05\n",
            "  2.46438850e-12 9.99958873e-01 4.77467532e-09 3.25227012e-10\n",
            "  2.45967868e-08 4.58537852e-06]\n",
            " [1.78976232e-04 3.40502623e-07 1.98623828e-09 2.36363206e-07\n",
            "  1.08335200e-06 2.38136068e-04 9.99567330e-01 7.77153949e-12\n",
            "  1.37730012e-05 3.15366178e-10]\n",
            " [5.48993785e-06 2.39185611e-05 1.28546013e-02 4.07312145e-05\n",
            "  4.43373074e-06 1.46638385e-07 1.06730639e-07 9.87029076e-01\n",
            "  5.90283037e-07 4.08988635e-05]\n",
            " [7.79755638e-08 1.96710476e-04 4.36215259e-06 1.91865820e-06\n",
            "  3.65337144e-07 1.02099020e-03 2.37842571e-07 6.67250279e-05\n",
            "  4.15168472e-07 9.98708248e-01]\n",
            " [9.67873893e-06 9.99977112e-01 9.20124847e-08 1.87851310e-06\n",
            "  1.90974021e-07 4.21923642e-06 6.36320601e-06 3.15789123e-07\n",
            "  2.87803870e-09 1.46107524e-07]\n",
            " [1.08374041e-02 4.55804402e-03 1.79152659e-04 4.55870440e-06\n",
            "  9.82251644e-01 2.36180608e-06 1.91034784e-03 1.91191604e-04\n",
            "  2.03742129e-05 4.48155952e-05]\n",
            " [2.36500435e-13 1.00000000e+00 2.08459930e-16 3.49603299e-15\n",
            "  1.38583924e-14 4.53827514e-14 1.68945736e-13 5.67574713e-15\n",
            "  5.35603486e-20 2.55199253e-15]\n",
            " [1.53024760e-10 1.85447049e-13 5.88598323e-06 7.17384745e-12\n",
            "  3.42913897e-09 4.92640986e-08 8.90358251e-07 5.46685787e-12\n",
            "  9.99992967e-01 2.52460723e-07]\n",
            " [3.83470706e-06 1.18316601e-09 4.48844221e-04 2.93409634e-08\n",
            "  1.22014717e-06 4.68224971e-05 2.05444507e-04 4.86844094e-08\n",
            "  9.99282062e-01 1.17059926e-05]\n",
            " [3.47348626e-12 7.90627064e-10 1.00000000e+00 9.14367970e-10\n",
            "  1.74934667e-11 7.84508430e-11 7.95921082e-14 4.16334522e-08\n",
            "  1.58898861e-09 9.73011949e-12]\n",
            " [8.29501823e-06 1.53466331e-07 2.90974977e-09 3.20479216e-06\n",
            "  2.82519541e-09 9.99985099e-01 1.34119773e-06 1.27889210e-09\n",
            "  7.87095701e-07 1.14727038e-06]\n",
            " [2.34262124e-11 3.03519769e-08 7.49535781e-11 9.99909997e-01\n",
            "  1.42713673e-12 8.97623977e-05 2.07079339e-07 7.52430687e-11\n",
            "  2.63084332e-10 5.31818749e-08]\n",
            " [5.55305135e-10 1.50101615e-11 9.99939919e-01 2.21741516e-07\n",
            "  2.56933003e-10 1.82028757e-07 1.13442616e-10 2.13336921e-06\n",
            "  5.75588347e-05 5.38843210e-08]\n",
            " [7.34901259e-05 9.99273241e-01 3.90413470e-06 4.80635092e-04\n",
            "  8.08121968e-06 2.02172632e-05 5.52065248e-05 8.40652574e-05\n",
            "  9.16902287e-09 1.06711013e-06]\n",
            " [1.75812325e-08 1.09553575e-08 5.96711236e-10 2.67796934e-13\n",
            "  1.00000000e+00 1.49183339e-14 3.89437238e-09 5.74408965e-10\n",
            "  8.57364735e-11 4.09222132e-08]\n",
            " [1.62585752e-13 1.55039559e-09 1.04882249e-12 6.78350275e-15\n",
            "  6.28343333e-09 6.71951779e-14 4.65123762e-13 8.37106662e-10\n",
            "  2.62283533e-12 1.00000000e+00]\n",
            " [3.64814739e-04 1.41469818e-05 6.10831137e-07 4.14115144e-03\n",
            "  2.15103498e-07 9.95277762e-01 1.46436752e-04 1.78880128e-07\n",
            "  4.35225265e-05 1.10383044e-05]\n",
            " [9.87568569e-07 8.93052743e-09 2.37669884e-09 4.51142101e-09\n",
            "  1.17434922e-06 2.09836599e-05 9.99771297e-01 1.80155728e-12\n",
            "  2.05619406e-04 9.90612481e-09]\n",
            " [7.19882001e-11 5.68980107e-09 6.52355340e-12 2.61695261e-13\n",
            "  1.07444045e-08 6.19959206e-12 3.05112116e-11 4.77308681e-09\n",
            "  7.25685831e-11 1.00000000e+00]\n",
            " [1.32625486e-04 3.69192981e-06 1.76020436e-07 1.36418248e-06\n",
            "  4.49675781e-06 1.74700799e-05 9.99836922e-01 2.42682896e-09\n",
            "  3.15855891e-06 7.52140683e-10]\n",
            " [1.55361021e-13 1.65030001e-12 6.88982249e-09 1.12321524e-12\n",
            "  6.02547512e-10 1.29842528e-19 5.17128332e-13 1.00000000e+00\n",
            "  9.20179409e-15 3.87008647e-08]\n",
            " [6.79107472e-08 3.27153443e-11 2.16946981e-04 3.35698672e-07\n",
            "  1.79497633e-07 6.89524022e-05 1.86400069e-03 6.97924385e-10\n",
            "  9.97849107e-01 4.70417746e-07]\n",
            " [9.99980807e-01 3.38044459e-09 1.76295659e-10 7.39496381e-11\n",
            "  5.71211345e-09 1.40024504e-05 8.58608047e-08 5.92975002e-10\n",
            "  5.05930302e-06 4.12159515e-08]\n",
            " [1.25230542e-13 3.51540819e-09 1.00000000e+00 1.18262917e-11\n",
            "  1.63006657e-11 1.77648055e-12 2.99519003e-15 7.07112502e-09\n",
            "  1.53227882e-11 1.98929347e-13]\n",
            " [1.78931953e-10 1.00000000e+00 2.51442075e-12 5.08045411e-11\n",
            "  8.13947382e-11 1.23101224e-10 1.01896425e-09 3.30270637e-11\n",
            "  1.28834126e-14 3.82765694e-11]\n",
            " [1.20727023e-07 6.14204237e-06 1.00735870e-05 1.77868547e-08\n",
            "  4.24072368e-06 7.85895959e-10 6.63118200e-08 9.99638200e-01\n",
            "  3.86137877e-09 3.41014762e-04]\n",
            " [4.34202153e-11 1.52190827e-09 1.03533727e-11 2.20147793e-12\n",
            "  4.45463577e-09 8.29456712e-11 4.81235329e-11 1.33943645e-09\n",
            "  8.49624482e-10 1.00000000e+00]\n",
            " [9.15339360e-09 2.37223148e-08 1.21597968e-05 6.85075152e-09\n",
            "  1.34694972e-06 3.24717792e-12 1.02212470e-08 9.99787152e-01\n",
            "  2.79216494e-09 1.99348578e-04]\n",
            " [1.69303821e-13 1.71775647e-12 1.00000000e+00 1.00865005e-09\n",
            "  7.48569501e-13 5.67326949e-11 2.88035417e-14 2.40152076e-08\n",
            "  1.84199482e-08 1.03540640e-11]\n",
            " [1.70470557e-07 4.64213684e-07 5.41529044e-09 4.29529546e-12\n",
            "  9.99999285e-01 5.77668339e-14 1.52289523e-08 1.28483819e-07\n",
            "  4.07964947e-11 1.44420147e-08]\n",
            " [3.03903361e-11 7.37125069e-14 5.59105273e-16 4.71372988e-15\n",
            "  3.03055401e-07 3.86704890e-10 9.99999642e-01 4.97241248e-21\n",
            "  3.43711974e-08 1.67764870e-14]\n",
            " [5.07448988e-07 3.02017315e-06 1.41400150e-07 4.04197731e-10\n",
            "  9.99995351e-01 7.21005113e-12 1.69281591e-07 4.89578440e-07\n",
            "  3.41021877e-09 2.11688587e-07]\n",
            " [7.64034258e-09 1.02103439e-12 4.00292129e-06 5.20936350e-10\n",
            "  2.66257794e-09 6.42351733e-06 3.19582767e-07 4.34158161e-11\n",
            "  9.99986410e-01 2.90608909e-06]\n",
            " [2.91592563e-08 2.31063904e-10 1.25758306e-04 2.20745928e-08\n",
            "  5.99970406e-07 3.98750308e-06 2.08357655e-04 1.10606158e-09\n",
            "  9.99659657e-01 1.53510575e-06]\n",
            " [6.92774614e-13 1.00000000e+00 1.15243406e-15 4.99184841e-13\n",
            "  1.66544177e-14 4.11790800e-13 6.26315449e-12 7.69403868e-14\n",
            "  2.20503371e-19 7.26928419e-15]\n",
            " [2.76214940e-10 7.19661752e-09 1.13518486e-10 9.99921799e-01\n",
            "  2.11963867e-11 7.40374453e-05 4.17049432e-06 5.04426501e-11\n",
            "  3.37291572e-09 1.30416344e-08]\n",
            " [9.58011892e-10 1.00000000e+00 4.01694276e-13 4.75670241e-12\n",
            "  1.30246675e-10 1.03469032e-10 1.67651726e-10 1.03949852e-11\n",
            "  3.17297390e-14 7.27427840e-11]\n",
            " [2.20667460e-11 5.25869799e-11 9.99997973e-01 5.70194914e-08\n",
            "  2.22748001e-11 6.36134201e-10 8.68617515e-13 1.96550718e-06\n",
            "  8.20679844e-08 2.47285470e-10]\n",
            " [2.61698325e-08 1.99412765e-14 4.26089427e-05 1.39493778e-10\n",
            "  1.62413394e-09 3.34011611e-06 4.39946743e-05 2.72063067e-11\n",
            "  9.99909997e-01 1.41259147e-08]\n",
            " [3.40822737e-07 6.97896758e-06 5.97876471e-10 5.44642196e-12\n",
            "  9.99992013e-01 1.90713200e-12 2.57322455e-07 2.63632529e-07\n",
            "  1.26544317e-10 2.16950255e-07]\n",
            " [4.79027651e-10 1.00000000e+00 1.92226552e-13 2.59850583e-12\n",
            "  8.69679467e-11 7.08588813e-11 1.07556498e-10 7.32935674e-12\n",
            "  1.71807911e-14 6.94286018e-11]\n",
            " [4.56428040e-07 8.29374139e-11 6.25797702e-06 5.56624880e-09\n",
            "  4.91264025e-08 1.20156146e-04 2.01220587e-06 5.57812851e-10\n",
            "  9.99864221e-01 6.74082639e-06]\n",
            " [2.22396307e-13 3.48517938e-12 1.35656752e-09 5.56181457e-13\n",
            "  3.70072806e-10 1.07101342e-19 4.56383249e-13 1.00000000e+00\n",
            "  2.01739108e-15 1.75034049e-08]\n",
            " [9.99994516e-01 2.26081283e-06 4.58935612e-10 6.06762063e-09\n",
            "  1.26480346e-08 1.53752342e-06 1.61562537e-06 1.25703750e-08\n",
            "  1.42604606e-09 7.99278005e-12]\n",
            " [9.99991298e-01 4.56430760e-09 1.03458508e-09 4.17810682e-11\n",
            "  6.32927888e-09 2.74696799e-06 1.07386575e-06 1.76804393e-09\n",
            "  4.91040282e-06 3.38400197e-09]\n",
            " [2.19698808e-11 1.86968698e-08 8.17538203e-13 9.99993086e-01\n",
            "  4.87888592e-13 6.63511219e-06 2.96004714e-07 8.88745934e-12\n",
            "  3.62206684e-12 1.03564124e-09]\n",
            " [1.49074034e-11 1.42596923e-09 3.53862447e-12 9.20378072e-14\n",
            "  6.50923226e-09 1.52531674e-13 1.09760031e-11 6.15567757e-08\n",
            "  1.64910186e-11 9.99999881e-01]\n",
            " [2.04499738e-04 4.64718505e-05 9.03221007e-07 3.15234217e-07\n",
            "  6.82972404e-06 2.19796813e-04 2.40333407e-07 9.86500254e-06\n",
            "  6.23983124e-06 9.99504924e-01]\n",
            " [5.19988956e-12 1.18765986e-09 1.62828748e-13 2.27083384e-14\n",
            "  5.33117550e-09 2.16483407e-13 3.15970882e-12 3.05852260e-10\n",
            "  5.24927627e-12 1.00000000e+00]\n",
            " [1.26373372e-03 1.20605164e-05 5.53836912e-07 2.24679607e-05\n",
            "  4.69734186e-05 2.90487078e-03 9.95579422e-01 1.04420614e-08\n",
            "  1.69731444e-04 7.49684759e-08]\n",
            " [1.04859551e-04 4.98731737e-04 5.54161352e-06 9.20063913e-01\n",
            "  3.80646566e-06 7.78527036e-02 1.38195360e-03 8.33698323e-06\n",
            "  2.49263139e-05 5.52586862e-05]\n",
            " [1.09642815e-05 1.21629895e-07 1.04721751e-08 3.35037257e-05\n",
            "  4.04722728e-10 9.99952435e-01 2.99418616e-07 3.87202714e-09\n",
            "  1.25528732e-06 1.40676036e-06]\n",
            " [6.30566137e-05 4.78221693e-07 1.37189076e-07 8.59489082e-05\n",
            "  1.86948039e-08 9.99819577e-01 9.26416669e-06 4.60218743e-08\n",
            "  1.73933877e-05 4.17812498e-06]\n",
            " [3.09851624e-12 5.06077846e-08 4.10341511e-10 4.98340362e-11\n",
            "  3.43235462e-09 4.11245926e-09 1.97260278e-10 4.64649219e-07\n",
            "  1.22912305e-10 9.99999523e-01]\n",
            " [3.01132556e-12 1.94584745e-14 9.20013571e-17 1.47380921e-14\n",
            "  2.73989764e-09 8.30075522e-11 1.00000000e+00 2.55912915e-22\n",
            "  2.43752862e-09 6.10241313e-17]\n",
            " [7.58011311e-06 8.99506413e-05 1.08731045e-04 5.95548102e-07\n",
            "  2.57052598e-05 1.12327960e-07 1.48659092e-06 9.98303294e-01\n",
            "  2.76856525e-07 1.46233465e-03]\n",
            " [5.70220737e-13 1.00000000e+00 1.19423006e-15 1.30606873e-14\n",
            "  6.70505115e-14 1.24179462e-13 6.78925666e-13 3.90685375e-14\n",
            "  3.81865733e-19 1.81403032e-14]\n",
            " [9.99999762e-01 6.13297324e-09 1.56911203e-11 3.30004687e-12\n",
            "  2.95556468e-09 1.81980980e-07 7.49868718e-08 1.70262485e-11\n",
            "  1.82521092e-08 1.14788404e-11]\n",
            " [7.81293419e-10 1.06947741e-12 4.71572748e-05 1.42909184e-09\n",
            "  6.88570712e-09 2.51347296e-06 3.60390845e-06 3.36451908e-11\n",
            "  9.99946117e-01 5.82883501e-07]\n",
            " [9.99752700e-01 3.29938030e-06 4.96968191e-08 7.94110449e-08\n",
            "  4.77478864e-07 2.23955838e-04 8.97958307e-06 2.69273919e-08\n",
            "  1.03344300e-05 4.06722940e-08]\n",
            " [2.74094809e-11 1.35902400e-09 9.99989629e-01 9.72111103e-09\n",
            "  1.21007659e-09 1.51443164e-11 8.47392816e-12 1.04174860e-05\n",
            "  9.74197434e-09 2.48355891e-10]\n",
            " [9.99992609e-01 1.39942031e-07 3.06324049e-10 8.82631079e-10\n",
            "  9.19894561e-09 6.67954464e-06 5.06090998e-07 1.08388998e-09\n",
            "  7.80139260e-08 1.49441418e-10]\n",
            " [1.13128419e-12 5.77832138e-09 9.99999881e-01 2.84487971e-11\n",
            "  7.43961281e-11 4.39799898e-11 2.96327904e-14 1.07137119e-07\n",
            "  4.87197060e-10 5.19702614e-11]\n",
            " [2.47141597e-05 1.21341240e-04 4.44678214e-08 9.81767237e-01\n",
            "  1.22475299e-07 1.26756029e-02 5.41014457e-03 1.11582153e-07\n",
            "  3.34488135e-07 4.17472279e-07]]\n"
          ]
        }
      ]
    },
    {
      "cell_type": "code",
      "source": [
        "res1 = np.argmax(predictions[0,:])\n",
        "print(res1) "
      ],
      "metadata": {
        "id": "JG9lcmU0gtgZ",
        "colab": {
          "base_uri": "https://localhost:8080/"
        },
        "outputId": "06c3a03c-91ac-4f92-93bb-74e730434080"
      },
      "execution_count": null,
      "outputs": [
        {
          "output_type": "stream",
          "name": "stdout",
          "text": [
            "2\n"
          ]
        }
      ]
    },
    {
      "cell_type": "markdown",
      "source": [
        "Como Fazer a predição de uma imagem PNG?"
      ],
      "metadata": {
        "id": "BtaLUbZ1mpu2"
      }
    },
    {
      "cell_type": "code",
      "source": [
        "#fileimg = r'D:\\digito_7_2SAN.png'\n",
        "fileimg = r'/content/Datasets/Digitos/Teste/7/7_8850.png'\n",
        "\n",
        "img = load_img(fileimg , color_mode = \"grayscale\", target_size=(30, 30))\n",
        "\n",
        "#\n",
        "x = img_to_array(img)\n",
        "\n",
        "plt.imshow(x[:,:,0], cmap=plt.get_cmap('gray'))\n",
        "plt.show()"
      ],
      "metadata": {
        "id": "rrmeie27nHvg",
        "colab": {
          "base_uri": "https://localhost:8080/",
          "height": 266
        },
        "outputId": "ae9dda02-bf75-46a6-eb5b-c9cffd5547c8"
      },
      "execution_count": null,
      "outputs": [
        {
          "output_type": "display_data",
          "data": {
            "text/plain": [
              "<Figure size 432x288 with 1 Axes>"
            ],
            "image/png": "[encoded data removed]"
          },
          "metadata": {
            "needs_background": "light"
          }
        }
      ]
    },
    {
      "cell_type": "code",
      "source": [
        "x.shape"
      ],
      "metadata": {
        "id": "zjF5TrAinZFj",
        "colab": {
          "base_uri": "https://localhost:8080/"
        },
        "outputId": "e0b316af-068f-489a-8ebf-f3a2de36a189"
      },
      "execution_count": null,
      "outputs": [
        {
          "output_type": "execute_result",
          "data": {
            "text/plain": [
              "(30, 30, 1)"
            ]
          },
          "metadata": {},
          "execution_count": 19
        }
      ]
    },
    {
      "cell_type": "code",
      "source": [
        "x = np.expand_dims(x, axis=0)\n",
        "x.shape"
      ],
      "metadata": {
        "id": "IFLveOHmnw5R",
        "colab": {
          "base_uri": "https://localhost:8080/"
        },
        "outputId": "ac9c5c15-ed11-450c-dfc4-2f6d5d2c6519"
      },
      "execution_count": null,
      "outputs": [
        {
          "output_type": "execute_result",
          "data": {
            "text/plain": [
              "(1, 30, 30, 1)"
            ]
          },
          "metadata": {},
          "execution_count": 20
        }
      ]
    },
    {
      "cell_type": "code",
      "source": [
        "y_pred = model.predict(x)\n",
        "\n",
        "res = np.argmax(y_pred)\n",
        "print(res)"
      ],
      "metadata": {
        "id": "te7CvbA2moT8",
        "colab": {
          "base_uri": "https://localhost:8080/"
        },
        "outputId": "9df08dea-d5ca-4f3d-d3af-a9547825b040"
      },
      "execution_count": null,
      "outputs": [
        {
          "output_type": "stream",
          "name": "stdout",
          "text": [
            "7\n"
          ]
        }
      ]
    },
    {
      "cell_type": "code",
      "source": [
        "y_pred"
      ],
      "metadata": {
        "id": "NOTuya-1MGRB",
        "colab": {
          "base_uri": "https://localhost:8080/"
        },
        "outputId": "72516da4-e451-45a5-e25d-a149d39cde5d"
      },
      "execution_count": null,
      "outputs": [
        {
          "output_type": "execute_result",
          "data": {
            "text/plain": [
              "array([[1.5536102e-13, 1.6503000e-12, 6.8898225e-09, 1.1232152e-12,\n",
              "        6.0254751e-10, 1.2984253e-19, 5.1712833e-13, 1.0000000e+00,\n",
              "        9.2017941e-15, 3.8700865e-08]], dtype=float32)"
            ]
          },
          "metadata": {},
          "execution_count": 22
        }
      ]
    },
    {
      "cell_type": "code",
      "source": [
        "train_generator.class_indices"
      ],
      "metadata": {
        "id": "PZJPF99ewuQ8",
        "colab": {
          "base_uri": "https://localhost:8080/"
        },
        "outputId": "335ebd68-c9f9-47db-e08b-d85a6b144014"
      },
      "execution_count": null,
      "outputs": [
        {
          "output_type": "execute_result",
          "data": {
            "text/plain": [
              "{'0': 0,\n",
              " '1': 1,\n",
              " '2': 2,\n",
              " '3': 3,\n",
              " '4': 4,\n",
              " '5': 5,\n",
              " '6': 6,\n",
              " '7': 7,\n",
              " '8': 8,\n",
              " '9': 9}"
            ]
          },
          "metadata": {},
          "execution_count": 23
        }
      ]
    }
  ]
}